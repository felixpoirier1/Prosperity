{
 "cells": [
  {
   "cell_type": "markdown",
   "metadata": {},
   "source": [
    "# Analysis of Placement for Starfruit\n",
    "Nick & Gio dissagreed on what strategy should be taken when it comes to starfruit, which prompted the creation of this analysis.\n",
    "\n",
    "Gio: The first approach aims to always beat the worst price in the book by 1$. (order_placement.log)\n",
    "\n",
    "* PNL = $1918.48\n",
    "\n",
    "\n",
    "StanfordCardinal: The second approach aims to always to place the worse price between a dollar worse than midprice and a dollar better than worst price. (penalty.log)\n",
    "\n",
    "* PNL = $1748.80"
   ]
  },
  {
   "cell_type": "code",
   "execution_count": 275,
   "metadata": {},
   "outputs": [],
   "source": [
    "import sys\n",
    "sys.path.append('..')\n",
    "from utils import DataEngine\n",
    "import pandas as pd"
   ]
  },
  {
   "cell_type": "code",
   "execution_count": 276,
   "metadata": {},
   "outputs": [],
   "source": [
    "gio = DataEngine.LogInterpreter(\"../logs/order_placement.log\")\n",
    "stanford = DataEngine.LogInterpreter(\"../logs/penalty.log\")"
   ]
  },
  {
   "cell_type": "code",
   "execution_count": 277,
   "metadata": {},
   "outputs": [],
   "source": [
    "gio_activities = gio.getActivities(as_df = True).loc[0]\n",
    "stanford_activities = stanford.getActivities(as_df = True).loc[0]"
   ]
  },
  {
   "cell_type": "code",
   "execution_count": 278,
   "metadata": {},
   "outputs": [
    {
     "data": {
      "text/html": [
       "<div>\n",
       "<style scoped>\n",
       "    .dataframe tbody tr th:only-of-type {\n",
       "        vertical-align: middle;\n",
       "    }\n",
       "\n",
       "    .dataframe tbody tr th {\n",
       "        vertical-align: top;\n",
       "    }\n",
       "\n",
       "    .dataframe thead th {\n",
       "        text-align: right;\n",
       "    }\n",
       "</style>\n",
       "<table border=\"1\" class=\"dataframe\">\n",
       "  <thead>\n",
       "    <tr style=\"text-align: right;\">\n",
       "      <th></th>\n",
       "      <th>day</th>\n",
       "      <th>timestamp</th>\n",
       "      <th>product</th>\n",
       "      <th>bid_price_1</th>\n",
       "      <th>bid_volume_1</th>\n",
       "      <th>bid_price_2</th>\n",
       "      <th>bid_volume_2</th>\n",
       "      <th>bid_price_3</th>\n",
       "      <th>bid_volume_3</th>\n",
       "      <th>ask_price_1</th>\n",
       "      <th>ask_volume_1</th>\n",
       "      <th>ask_price_2</th>\n",
       "      <th>ask_volume_2</th>\n",
       "      <th>ask_price_3</th>\n",
       "      <th>ask_volume_3</th>\n",
       "      <th>mid_price</th>\n",
       "      <th>profit_and_loss</th>\n",
       "    </tr>\n",
       "  </thead>\n",
       "  <tbody>\n",
       "    <tr>\n",
       "      <th>0</th>\n",
       "      <td>0</td>\n",
       "      <td>0</td>\n",
       "      <td>STARFRUIT</td>\n",
       "      <td>5036.0</td>\n",
       "      <td>23.0</td>\n",
       "      <td>NaN</td>\n",
       "      <td>NaN</td>\n",
       "      <td>NaN</td>\n",
       "      <td>NaN</td>\n",
       "      <td>5043.0</td>\n",
       "      <td>23.0</td>\n",
       "      <td>NaN</td>\n",
       "      <td>NaN</td>\n",
       "      <td>NaN</td>\n",
       "      <td>NaN</td>\n",
       "      <td>5039.5</td>\n",
       "      <td>0.000000</td>\n",
       "    </tr>\n",
       "    <tr>\n",
       "      <th>100</th>\n",
       "      <td>0</td>\n",
       "      <td>100</td>\n",
       "      <td>STARFRUIT</td>\n",
       "      <td>5042.0</td>\n",
       "      <td>1.0</td>\n",
       "      <td>5039.0</td>\n",
       "      <td>2.0</td>\n",
       "      <td>5037.0</td>\n",
       "      <td>1.0</td>\n",
       "      <td>5043.0</td>\n",
       "      <td>22.0</td>\n",
       "      <td>NaN</td>\n",
       "      <td>NaN</td>\n",
       "      <td>NaN</td>\n",
       "      <td>NaN</td>\n",
       "      <td>5042.5</td>\n",
       "      <td>0.000000</td>\n",
       "    </tr>\n",
       "    <tr>\n",
       "      <th>200</th>\n",
       "      <td>0</td>\n",
       "      <td>200</td>\n",
       "      <td>STARFRUIT</td>\n",
       "      <td>5037.0</td>\n",
       "      <td>1.0</td>\n",
       "      <td>5036.0</td>\n",
       "      <td>21.0</td>\n",
       "      <td>NaN</td>\n",
       "      <td>NaN</td>\n",
       "      <td>5043.0</td>\n",
       "      <td>1.0</td>\n",
       "      <td>5044.0</td>\n",
       "      <td>21.0</td>\n",
       "      <td>NaN</td>\n",
       "      <td>NaN</td>\n",
       "      <td>5040.0</td>\n",
       "      <td>2.016113</td>\n",
       "    </tr>\n",
       "    <tr>\n",
       "      <th>300</th>\n",
       "      <td>0</td>\n",
       "      <td>300</td>\n",
       "      <td>AMETHYSTS</td>\n",
       "      <td>9995.0</td>\n",
       "      <td>26.0</td>\n",
       "      <td>NaN</td>\n",
       "      <td>NaN</td>\n",
       "      <td>NaN</td>\n",
       "      <td>NaN</td>\n",
       "      <td>10005.0</td>\n",
       "      <td>26.0</td>\n",
       "      <td>NaN</td>\n",
       "      <td>NaN</td>\n",
       "      <td>NaN</td>\n",
       "      <td>NaN</td>\n",
       "      <td>10000.0</td>\n",
       "      <td>5.000000</td>\n",
       "    </tr>\n",
       "    <tr>\n",
       "      <th>400</th>\n",
       "      <td>0</td>\n",
       "      <td>400</td>\n",
       "      <td>STARFRUIT</td>\n",
       "      <td>5037.0</td>\n",
       "      <td>28.0</td>\n",
       "      <td>NaN</td>\n",
       "      <td>NaN</td>\n",
       "      <td>NaN</td>\n",
       "      <td>NaN</td>\n",
       "      <td>5044.0</td>\n",
       "      <td>28.0</td>\n",
       "      <td>NaN</td>\n",
       "      <td>NaN</td>\n",
       "      <td>NaN</td>\n",
       "      <td>NaN</td>\n",
       "      <td>5040.5</td>\n",
       "      <td>4.671875</td>\n",
       "    </tr>\n",
       "    <tr>\n",
       "      <th>...</th>\n",
       "      <td>...</td>\n",
       "      <td>...</td>\n",
       "      <td>...</td>\n",
       "      <td>...</td>\n",
       "      <td>...</td>\n",
       "      <td>...</td>\n",
       "      <td>...</td>\n",
       "      <td>...</td>\n",
       "      <td>...</td>\n",
       "      <td>...</td>\n",
       "      <td>...</td>\n",
       "      <td>...</td>\n",
       "      <td>...</td>\n",
       "      <td>...</td>\n",
       "      <td>...</td>\n",
       "      <td>...</td>\n",
       "      <td>...</td>\n",
       "    </tr>\n",
       "    <tr>\n",
       "      <th>99500</th>\n",
       "      <td>0</td>\n",
       "      <td>99500</td>\n",
       "      <td>STARFRUIT</td>\n",
       "      <td>5049.0</td>\n",
       "      <td>20.0</td>\n",
       "      <td>NaN</td>\n",
       "      <td>NaN</td>\n",
       "      <td>NaN</td>\n",
       "      <td>NaN</td>\n",
       "      <td>5056.0</td>\n",
       "      <td>20.0</td>\n",
       "      <td>NaN</td>\n",
       "      <td>NaN</td>\n",
       "      <td>NaN</td>\n",
       "      <td>NaN</td>\n",
       "      <td>5052.5</td>\n",
       "      <td>1900.535156</td>\n",
       "    </tr>\n",
       "    <tr>\n",
       "      <th>99600</th>\n",
       "      <td>0</td>\n",
       "      <td>99600</td>\n",
       "      <td>STARFRUIT</td>\n",
       "      <td>5049.0</td>\n",
       "      <td>28.0</td>\n",
       "      <td>NaN</td>\n",
       "      <td>NaN</td>\n",
       "      <td>NaN</td>\n",
       "      <td>NaN</td>\n",
       "      <td>5056.0</td>\n",
       "      <td>28.0</td>\n",
       "      <td>NaN</td>\n",
       "      <td>NaN</td>\n",
       "      <td>NaN</td>\n",
       "      <td>NaN</td>\n",
       "      <td>5052.5</td>\n",
       "      <td>1901.794922</td>\n",
       "    </tr>\n",
       "    <tr>\n",
       "      <th>99700</th>\n",
       "      <td>0</td>\n",
       "      <td>99700</td>\n",
       "      <td>AMETHYSTS</td>\n",
       "      <td>9995.0</td>\n",
       "      <td>26.0</td>\n",
       "      <td>NaN</td>\n",
       "      <td>NaN</td>\n",
       "      <td>NaN</td>\n",
       "      <td>NaN</td>\n",
       "      <td>10005.0</td>\n",
       "      <td>26.0</td>\n",
       "      <td>NaN</td>\n",
       "      <td>NaN</td>\n",
       "      <td>NaN</td>\n",
       "      <td>NaN</td>\n",
       "      <td>10000.0</td>\n",
       "      <td>1827.000000</td>\n",
       "    </tr>\n",
       "    <tr>\n",
       "      <th>99800</th>\n",
       "      <td>0</td>\n",
       "      <td>99800</td>\n",
       "      <td>STARFRUIT</td>\n",
       "      <td>5051.0</td>\n",
       "      <td>1.0</td>\n",
       "      <td>5050.0</td>\n",
       "      <td>25.0</td>\n",
       "      <td>NaN</td>\n",
       "      <td>NaN</td>\n",
       "      <td>5057.0</td>\n",
       "      <td>26.0</td>\n",
       "      <td>NaN</td>\n",
       "      <td>NaN</td>\n",
       "      <td>NaN</td>\n",
       "      <td>NaN</td>\n",
       "      <td>5054.0</td>\n",
       "      <td>1915.078125</td>\n",
       "    </tr>\n",
       "    <tr>\n",
       "      <th>99900</th>\n",
       "      <td>0</td>\n",
       "      <td>99900</td>\n",
       "      <td>STARFRUIT</td>\n",
       "      <td>5050.0</td>\n",
       "      <td>28.0</td>\n",
       "      <td>NaN</td>\n",
       "      <td>NaN</td>\n",
       "      <td>NaN</td>\n",
       "      <td>NaN</td>\n",
       "      <td>5051.0</td>\n",
       "      <td>1.0</td>\n",
       "      <td>5057.0</td>\n",
       "      <td>28.0</td>\n",
       "      <td>NaN</td>\n",
       "      <td>NaN</td>\n",
       "      <td>5050.5</td>\n",
       "      <td>1918.476562</td>\n",
       "    </tr>\n",
       "  </tbody>\n",
       "</table>\n",
       "<p>1000 rows × 17 columns</p>\n",
       "</div>"
      ],
      "text/plain": [
       "       day  timestamp    product  bid_price_1  bid_volume_1  bid_price_2  \\\n",
       "0        0          0  STARFRUIT       5036.0          23.0          NaN   \n",
       "100      0        100  STARFRUIT       5042.0           1.0       5039.0   \n",
       "200      0        200  STARFRUIT       5037.0           1.0       5036.0   \n",
       "300      0        300  AMETHYSTS       9995.0          26.0          NaN   \n",
       "400      0        400  STARFRUIT       5037.0          28.0          NaN   \n",
       "...    ...        ...        ...          ...           ...          ...   \n",
       "99500    0      99500  STARFRUIT       5049.0          20.0          NaN   \n",
       "99600    0      99600  STARFRUIT       5049.0          28.0          NaN   \n",
       "99700    0      99700  AMETHYSTS       9995.0          26.0          NaN   \n",
       "99800    0      99800  STARFRUIT       5051.0           1.0       5050.0   \n",
       "99900    0      99900  STARFRUIT       5050.0          28.0          NaN   \n",
       "\n",
       "       bid_volume_2  bid_price_3  bid_volume_3  ask_price_1  ask_volume_1  \\\n",
       "0               NaN          NaN           NaN       5043.0          23.0   \n",
       "100             2.0       5037.0           1.0       5043.0          22.0   \n",
       "200            21.0          NaN           NaN       5043.0           1.0   \n",
       "300             NaN          NaN           NaN      10005.0          26.0   \n",
       "400             NaN          NaN           NaN       5044.0          28.0   \n",
       "...             ...          ...           ...          ...           ...   \n",
       "99500           NaN          NaN           NaN       5056.0          20.0   \n",
       "99600           NaN          NaN           NaN       5056.0          28.0   \n",
       "99700           NaN          NaN           NaN      10005.0          26.0   \n",
       "99800          25.0          NaN           NaN       5057.0          26.0   \n",
       "99900           NaN          NaN           NaN       5051.0           1.0   \n",
       "\n",
       "       ask_price_2  ask_volume_2  ask_price_3  ask_volume_3  mid_price  \\\n",
       "0              NaN           NaN          NaN           NaN     5039.5   \n",
       "100            NaN           NaN          NaN           NaN     5042.5   \n",
       "200         5044.0          21.0          NaN           NaN     5040.0   \n",
       "300            NaN           NaN          NaN           NaN    10000.0   \n",
       "400            NaN           NaN          NaN           NaN     5040.5   \n",
       "...            ...           ...          ...           ...        ...   \n",
       "99500          NaN           NaN          NaN           NaN     5052.5   \n",
       "99600          NaN           NaN          NaN           NaN     5052.5   \n",
       "99700          NaN           NaN          NaN           NaN    10000.0   \n",
       "99800          NaN           NaN          NaN           NaN     5054.0   \n",
       "99900       5057.0          28.0          NaN           NaN     5050.5   \n",
       "\n",
       "       profit_and_loss  \n",
       "0             0.000000  \n",
       "100           0.000000  \n",
       "200           2.016113  \n",
       "300           5.000000  \n",
       "400           4.671875  \n",
       "...                ...  \n",
       "99500      1900.535156  \n",
       "99600      1901.794922  \n",
       "99700      1827.000000  \n",
       "99800      1915.078125  \n",
       "99900      1918.476562  \n",
       "\n",
       "[1000 rows x 17 columns]"
      ]
     },
     "execution_count": 278,
     "metadata": {},
     "output_type": "execute_result"
    }
   ],
   "source": [
    "gio_activities"
   ]
  },
  {
   "cell_type": "code",
   "execution_count": 279,
   "metadata": {},
   "outputs": [],
   "source": [
    "gio_starfruit_pnl = pd.pivot_table(gio_activities, index = 'timestamp', values = 'profit_and_loss', columns='product').ffill().diff().fillna(0)[\"STARFRUIT\"]\n",
    "stanford_starfruit_pnl = pd.pivot_table(stanford_activities, index = 'timestamp', values = 'profit_and_loss', columns='product').ffill().diff().fillna(0)[\"STARFRUIT\"]"
   ]
  },
  {
   "cell_type": "code",
   "execution_count": 280,
   "metadata": {},
   "outputs": [
    {
     "data": {
      "text/plain": [
       "1918.4765625"
      ]
     },
     "execution_count": 280,
     "metadata": {},
     "output_type": "execute_result"
    }
   ],
   "source": [
    "gio_starfruit_pnl.sum()"
   ]
  },
  {
   "cell_type": "code",
   "execution_count": 281,
   "metadata": {},
   "outputs": [
    {
     "data": {
      "text/plain": [
       "1748.796875"
      ]
     },
     "execution_count": 281,
     "metadata": {},
     "output_type": "execute_result"
    }
   ],
   "source": [
    "stanford_starfruit_pnl.sum()"
   ]
  },
  {
   "cell_type": "code",
   "execution_count": 282,
   "metadata": {},
   "outputs": [
    {
     "data": {
      "text/plain": [
       "<Axes: ylabel='Frequency'>"
      ]
     },
     "execution_count": 282,
     "metadata": {},
     "output_type": "execute_result"
    },
    {
     "data": {
      "image/png": "[encoded data removed]",
      "text/plain": [
       "<Figure size 640x480 with 1 Axes>"
      ]
     },
     "metadata": {},
     "output_type": "display_data"
    }
   ],
   "source": [
    "starfruit_diff = (gio_starfruit_pnl - stanford_starfruit_pnl)#.plot(kind=\"hist\")\n",
    "starfruit_onward_diff = starfruit_diff[::-1].rolling(50).sum()[::-1].fillna(0)\n",
    "starfruit_diff[starfruit_diff!=0].plot(kind=\"hist\", bins=100)"
   ]
  },
  {
   "cell_type": "code",
   "execution_count": 283,
   "metadata": {},
   "outputs": [
    {
     "data": {
      "text/plain": [
       "<Axes: xlabel='timestamp'>"
      ]
     },
     "execution_count": 283,
     "metadata": {},
     "output_type": "execute_result"
    },
    {
     "data": {
      "image/png": "[encoded data removed]",
      "text/plain": [
       "<Figure size 640x480 with 1 Axes>"
      ]
     },
     "metadata": {},
     "output_type": "display_data"
    }
   ],
   "source": [
    "starfruit_onward_diff.plot()"
   ]
  },
  {
   "cell_type": "code",
   "execution_count": 284,
   "metadata": {},
   "outputs": [
    {
     "data": {
      "text/plain": [
       "count    1000.000000\n",
       "mean        0.169680\n",
       "std         3.598538\n",
       "min       -28.429688\n",
       "25%         0.000000\n",
       "50%         0.000000\n",
       "75%         0.000000\n",
       "max        26.445312\n",
       "Name: STARFRUIT, dtype: float64"
      ]
     },
     "execution_count": 284,
     "metadata": {},
     "output_type": "execute_result"
    }
   ],
   "source": [
    "starfruit_diff.describe()"
   ]
  },
  {
   "cell_type": "markdown",
   "metadata": {},
   "source": [
    "### Analysis of the difference\n",
    "\n",
    "Gio's strategy mostly differs when a 3rd level to the book appears, hence I will use a indicator value to signify when that happens and see how it affects PnL"
   ]
  },
  {
   "cell_type": "code",
   "execution_count": 285,
   "metadata": {},
   "outputs": [
    {
     "data": {
      "text/plain": [
       "timestamp\n",
       "0        0\n",
       "100      1\n",
       "200      0\n",
       "300      0\n",
       "400      0\n",
       "        ..\n",
       "99500    0\n",
       "99600    0\n",
       "99700    0\n",
       "99800    0\n",
       "99900    0\n",
       "Length: 1000, dtype: int64"
      ]
     },
     "execution_count": 285,
     "metadata": {},
     "output_type": "execute_result"
    }
   ],
   "source": [
    "is_3rd_level = (gio_activities.groupby(\"timestamp\")[[\"ask_volume_3\",\"bid_volume_3\"]].sum().sum(axis=1) > 0).astype(int)\n",
    "is_3rd_level"
   ]
  },
  {
   "cell_type": "code",
   "execution_count": 286,
   "metadata": {},
   "outputs": [],
   "source": [
    "df = is_3rd_level\n",
    "df = df.to_frame(\"is_3rd_level\")\n",
    "df[\"pnl_diff\"] = starfruit_diff\n",
    "df[\"pnl_onward_diff\"] = starfruit_onward_diff"
   ]
  },
  {
   "cell_type": "code",
   "execution_count": 287,
   "metadata": {},
   "outputs": [],
   "source": [
    "from sklearn.linear_model import LinearRegression"
   ]
  },
  {
   "cell_type": "code",
   "execution_count": 288,
   "metadata": {},
   "outputs": [
    {
     "data": {
      "text/plain": [
       "array([[0.3952094]])"
      ]
     },
     "execution_count": 288,
     "metadata": {},
     "output_type": "execute_result"
    }
   ],
   "source": [
    "LinearRegression().fit(df[[\"is_3rd_level\"]], df[[\"pnl_onward_diff\"]]).coef_"
   ]
  },
  {
   "cell_type": "code",
   "execution_count": 289,
   "metadata": {},
   "outputs": [],
   "source": [
    "pnl_vs_time = []\n",
    "for i in range(1, 100):\n",
    "    df[f\"pnl_onward_diff_{i}\"] = starfruit_diff[::-1].rolling(i).sum()[::-1].fillna(0)\n",
    "    pnl_vs_time += [LinearRegression(fit_intercept=True).fit(df[[\"is_3rd_level\"]], df[[f\"pnl_onward_diff_{i}\"]]).coef_[0][0]]"
   ]
  },
  {
   "cell_type": "code",
   "execution_count": 290,
   "metadata": {},
   "outputs": [],
   "source": [
    "import matplotlib.pyplot as plt"
   ]
  },
  {
   "cell_type": "code",
   "execution_count": 291,
   "metadata": {},
   "outputs": [
    {
     "data": {
      "text/plain": [
       "Text(0.5, 0, 'Holding Time')"
      ]
     },
     "execution_count": 291,
     "metadata": {},
     "output_type": "execute_result"
    },
    {
     "data": {
      "image/png": "[encoded data removed]",
      "text/plain": [
       "<Figure size 640x480 with 1 Axes>"
      ]
     },
     "metadata": {},
     "output_type": "display_data"
    }
   ],
   "source": [
    "plt.plot(range(1, 100), pnl_vs_time)\n",
    "plt.ylabel(\"Running P&L\")\n",
    "plt.xlabel(\"Holding Time\")"
   ]
  },
  {
   "cell_type": "code",
   "execution_count": 292,
   "metadata": {},
   "outputs": [
    {
     "data": {
      "text/plain": [
       "0.181"
      ]
     },
     "execution_count": 292,
     "metadata": {},
     "output_type": "execute_result"
    }
   ],
   "source": [
    "is_3rd_level.sum()/len(is_3rd_level)"
   ]
  },
  {
   "cell_type": "markdown",
   "metadata": {},
   "source": [
    "### Another interesting idea\n",
    "\n",
    "Does the existance of the third level imply that the other levels will get blown?"
   ]
  },
  {
   "cell_type": "code",
   "execution_count": 295,
   "metadata": {},
   "outputs": [],
   "source": [
    "midprice_starfruit = (gio_activities.loc[gio_activities[\"product\"] == \"STARFRUIT\"].bid_price_1 + gio_activities.loc[gio_activities[\"product\"] == \"STARFRUIT\"].ask_price_1)/2"
   ]
  },
  {
   "cell_type": "code",
   "execution_count": 296,
   "metadata": {},
   "outputs": [],
   "source": [
    "midprice_starfruit_diff_shift = midprice_starfruit.diff().shift(-1).iloc[:-2]"
   ]
  },
  {
   "cell_type": "code",
   "execution_count": 297,
   "metadata": {},
   "outputs": [
    {
     "data": {
      "text/plain": [
       "0        3.0\n",
       "100     -2.5\n",
       "200      0.5\n",
       "400     -1.0\n",
       "500      3.0\n",
       "        ... \n",
       "99100    0.0\n",
       "99200   -0.5\n",
       "99400   -0.5\n",
       "99500    0.0\n",
       "99600    1.5\n",
       "Length: 622, dtype: float64"
      ]
     },
     "execution_count": 297,
     "metadata": {},
     "output_type": "execute_result"
    }
   ],
   "source": [
    "midprice_starfruit_diff_shift"
   ]
  },
  {
   "cell_type": "code",
   "execution_count": 332,
   "metadata": {},
   "outputs": [],
   "source": [
    "ask3_exists = (gio_activities[[\"ask_volume_3\"]] > 0).astype(int).iloc[:-2]\n",
    "bid3_exists = (gio_activities[[\"bid_volume_3\"]] > 0).astype(int).iloc[:-2]\n",
    "askbid3_exists = pd.concat([ask3_exists, bid3_exists], axis=1)\n",
    "askbid3_exists[\"price_diff\"] = midprice_starfruit_diff_shift.fillna(0)"
   ]
  },
  {
   "cell_type": "code",
   "execution_count": 333,
   "metadata": {},
   "outputs": [
    {
     "data": {
      "text/html": [
       "<div>\n",
       "<style scoped>\n",
       "    .dataframe tbody tr th:only-of-type {\n",
       "        vertical-align: middle;\n",
       "    }\n",
       "\n",
       "    .dataframe tbody tr th {\n",
       "        vertical-align: top;\n",
       "    }\n",
       "\n",
       "    .dataframe thead th {\n",
       "        text-align: right;\n",
       "    }\n",
       "</style>\n",
       "<table border=\"1\" class=\"dataframe\">\n",
       "  <thead>\n",
       "    <tr style=\"text-align: right;\">\n",
       "      <th></th>\n",
       "      <th>ask_volume_2</th>\n",
       "    </tr>\n",
       "  </thead>\n",
       "  <tbody>\n",
       "    <tr>\n",
       "      <th>0</th>\n",
       "      <td>False</td>\n",
       "    </tr>\n",
       "    <tr>\n",
       "      <th>100</th>\n",
       "      <td>False</td>\n",
       "    </tr>\n",
       "    <tr>\n",
       "      <th>200</th>\n",
       "      <td>True</td>\n",
       "    </tr>\n",
       "    <tr>\n",
       "      <th>300</th>\n",
       "      <td>False</td>\n",
       "    </tr>\n",
       "    <tr>\n",
       "      <th>400</th>\n",
       "      <td>False</td>\n",
       "    </tr>\n",
       "    <tr>\n",
       "      <th>...</th>\n",
       "      <td>...</td>\n",
       "    </tr>\n",
       "    <tr>\n",
       "      <th>99500</th>\n",
       "      <td>False</td>\n",
       "    </tr>\n",
       "    <tr>\n",
       "      <th>99600</th>\n",
       "      <td>False</td>\n",
       "    </tr>\n",
       "    <tr>\n",
       "      <th>99700</th>\n",
       "      <td>False</td>\n",
       "    </tr>\n",
       "    <tr>\n",
       "      <th>99800</th>\n",
       "      <td>False</td>\n",
       "    </tr>\n",
       "    <tr>\n",
       "      <th>99900</th>\n",
       "      <td>True</td>\n",
       "    </tr>\n",
       "  </tbody>\n",
       "</table>\n",
       "<p>1000 rows × 1 columns</p>\n",
       "</div>"
      ],
      "text/plain": [
       "       ask_volume_2\n",
       "0             False\n",
       "100           False\n",
       "200            True\n",
       "300           False\n",
       "400           False\n",
       "...             ...\n",
       "99500         False\n",
       "99600         False\n",
       "99700         False\n",
       "99800         False\n",
       "99900          True\n",
       "\n",
       "[1000 rows x 1 columns]"
      ]
     },
     "execution_count": 333,
     "metadata": {},
     "output_type": "execute_result"
    }
   ],
   "source": [
    "(gio_activities[[\"ask_volume_2\"]] > 0)"
   ]
  },
  {
   "cell_type": "code",
   "execution_count": 334,
   "metadata": {},
   "outputs": [
    {
     "data": {
      "text/plain": [
       "ask_volume_3    98\n",
       "dtype: int64"
      ]
     },
     "execution_count": 334,
     "metadata": {},
     "output_type": "execute_result"
    }
   ],
   "source": [
    "ask3_exists.sum()"
   ]
  },
  {
   "cell_type": "code",
   "execution_count": 335,
   "metadata": {},
   "outputs": [],
   "source": [
    "midprice_starfruit_diff_shift = askbid3_exists.pop(\"price_diff\")"
   ]
  },
  {
   "cell_type": "code",
   "execution_count": 337,
   "metadata": {},
   "outputs": [
    {
     "data": {
      "text/plain": [
       "array([ 0.34500724, -0.56911361])"
      ]
     },
     "execution_count": 337,
     "metadata": {},
     "output_type": "execute_result"
    }
   ],
   "source": [
    "LinearRegression(fit_intercept=True).fit(askbid3_exists, midprice_starfruit_diff_shift).coef_"
   ]
  },
  {
   "cell_type": "code",
   "execution_count": 338,
   "metadata": {},
   "outputs": [
    {
     "data": {
      "text/plain": [
       "0.014529058116232466"
      ]
     },
     "execution_count": 338,
     "metadata": {},
     "output_type": "execute_result"
    }
   ],
   "source": [
    "midprice_starfruit_diff_shift.mean()"
   ]
  },
  {
   "cell_type": "markdown",
   "metadata": {},
   "source": [
    "### On a different note\n",
    "\n",
    "Let's verify how the presence of lvl2 without lvl3 affect the price"
   ]
  },
  {
   "cell_type": "code",
   "execution_count": 341,
   "metadata": {},
   "outputs": [],
   "source": [
    "ask3_exists = ((gio_activities[\"ask_volume_2\"] > 0) & (gio_activities[\"ask_volume_3\"].isna())).astype(int).iloc[:-2]\n",
    "bid3_exists = ((gio_activities[\"bid_volume_2\"] > 0) & (gio_activities[\"bid_volume_3\"].isna())).astype(int).iloc[:-2]\n",
    "askbid3_exists = pd.concat([ask3_exists, bid3_exists], axis=1)\n",
    "askbid3_exists[\"price_diff\"] = midprice_starfruit_diff_shift.fillna(0)"
   ]
  },
  {
   "cell_type": "code",
   "execution_count": 342,
   "metadata": {},
   "outputs": [],
   "source": [
    "midprice_starfruit_diff_shift = askbid3_exists.pop(\"price_diff\")"
   ]
  },
  {
   "cell_type": "code",
   "execution_count": 343,
   "metadata": {},
   "outputs": [
    {
     "data": {
      "text/plain": [
       "array([ 0.61731098, -0.47699895])"
      ]
     },
     "execution_count": 343,
     "metadata": {},
     "output_type": "execute_result"
    }
   ],
   "source": [
    "LinearRegression(fit_intercept=True).fit(askbid3_exists, midprice_starfruit_diff_shift).coef_"
   ]
  },
  {
   "cell_type": "code",
   "execution_count": null,
   "metadata": {},
   "outputs": [],
   "source": []
  }
 ],
 "metadata": {
  "kernelspec": {
   "display_name": "Python 3",
   "language": "python",
   "name": "python3"
  },
  "language_info": {
   "codemirror_mode": {
    "name": "ipython",
    "version": 3
   },
   "file_extension": ".py",
   "mimetype": "text/x-python",
   "name": "python",
   "nbconvert_exporter": "python",
   "pygments_lexer": "ipython3",
   "version": "3.11.2"
  }
 },
 "nbformat": 4,
 "nbformat_minor": 2
}
