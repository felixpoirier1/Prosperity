{
 "cells": [
  {
   "cell_type": "code",
   "execution_count": 1,
   "metadata": {},
   "outputs": [],
   "source": [
    "import numpy as np"
   ]
  },
  {
   "cell_type": "code",
   "execution_count": 57,
   "metadata": {},
   "outputs": [],
   "source": [
    "def manual_round_1(a):\n",
    "    assert(a <= 1/100)\n",
    "\n",
    "    b = (1/50)-a\n",
    "    beta = (b-a)/100\n",
    "\n",
    "    x_0_lst = np.arange(900, 1001, 1)\n",
    "    x_1_lst = np.arange(900, 1001, 1)\n",
    "\n",
    "    max_profit = 0\n",
    "    best_params = None\n",
    "\n",
    "    for x_0 in x_0_lst:\n",
    "        for x_1 in x_1_lst:\n",
    "            if x_1 > x_0:\n",
    "                shift = x_0-900\n",
    "                profit_1 = (1000-x_0)\n",
    "                prob_1 = (x_0-900)*(beta*shift)\n",
    "\n",
    "                diff_val = x_1-x_0\n",
    "                \n",
    "                profit_2 = (1000-x_1)\n",
    "                prob_2 = diff_val*((beta*shift+a)+(0.5*(beta*diff_val)))\n",
    "\n",
    "                new_profit = (profit_1*prob_1) + (profit_2*prob_2)\n",
    "\n",
    "                if new_profit > max_profit:\n",
    "                    max_profit = new_profit\n",
    "                    best_params = (x_0, x_1)\n",
    "        \n",
    "    return max_profit, best_params, a"
   ]
  },
  {
   "cell_type": "code",
   "execution_count": 58,
   "metadata": {},
   "outputs": [
    {
     "name": "stdout",
     "output_type": "stream",
     "text": [
      "(34.42920000000001, (961, 982), 0.0)\n",
      "(31.382309999999993, (960, 981), 0.001)\n",
      "(28.352960000000003, (959, 981), 0.002)\n",
      "(25.350720000000003, (958, 980), 0.003)\n",
      "(22.40316, (955, 979), 0.004)\n",
      "(19.56295, (952, 977), 0.005)\n",
      "(20.303360000000005, (900, 956), 0.006)\n",
      "(21.412080000000003, (900, 954), 0.007)\n",
      "(22.568459999999998, (900, 953), 0.008)\n",
      "(23.765490000000003, (900, 951), 0.009000000000000001)\n",
      "(25.0, (900, 950), 0.01)\n"
     ]
    }
   ],
   "source": [
    "for a in np.arange(0, 1/100+1/1000, 1/1000):\n",
    "    print(manual_round_1(a))"
   ]
  },
  {
   "cell_type": "code",
   "execution_count": 59,
   "metadata": {},
   "outputs": [
    {
     "name": "stdout",
     "output_type": "stream",
     "text": [
      "(25.0, (900, 950), 0.01)\n",
      "(34.42920000000001, (961, 982), 0)\n"
     ]
    }
   ],
   "source": [
    "print(manual_round_1(1/100))\n",
    "print(manual_round_1(0))"
   ]
  },
  {
   "cell_type": "code",
   "execution_count": 60,
   "metadata": {},
   "outputs": [
    {
     "data": {
      "text/plain": [
       "(23.39728695652174, (900, 952), 0.008695652173913044)"
      ]
     },
     "execution_count": 60,
     "metadata": {},
     "output_type": "execute_result"
    }
   ],
   "source": [
    "manual_round_1(1/115)"
   ]
  },
  {
   "cell_type": "code",
   "execution_count": null,
   "metadata": {},
   "outputs": [],
   "source": []
  }
 ],
 "metadata": {
  "kernelspec": {
   "display_name": ".env",
   "language": "python",
   "name": "python3"
  },
  "language_info": {
   "codemirror_mode": {
    "name": "ipython",
    "version": 3
   },
   "file_extension": ".py",
   "mimetype": "text/x-python",
   "name": "python",
   "nbconvert_exporter": "python",
   "pygments_lexer": "ipython3",
   "version": "3.11.5"
  }
 },
 "nbformat": 4,
 "nbformat_minor": 2
}
