{
 "cells": [
  {
   "cell_type": "code",
   "execution_count": 52,
   "metadata": {},
   "outputs": [],
   "source": [
    "import numpy as np"
   ]
  },
  {
   "cell_type": "code",
   "execution_count": 91,
   "metadata": {},
   "outputs": [],
   "source": [
    "def calc_trapezoid(a, b, h):\n",
    "    return ((a+b)/2)*h\n",
    "\n",
    "\n",
    "def calc_profit(x_0, x_1, a, beta):\n",
    "    shift_0 = x_0-900\n",
    "    profit_1 = (1000-x_0)\n",
    "    prob_1 = calc_trapezoid(a, a+beta*shift_0, shift_0)\n",
    "\n",
    "    shift_1 = x_1-900\n",
    "    profit_2 = (1000-x_1)\n",
    "    prob_2 = calc_trapezoid(a, a+beta*shift_1, shift_1)-prob_1\n",
    "\n",
    "    return (profit_1*prob_1) + (profit_2*prob_2)\n",
    "\n",
    "\n",
    "def manual_round_1(a):\n",
    "    assert(a <= 1/100)\n",
    "\n",
    "    b = (1/50)-a\n",
    "    beta = (b-a)/100\n",
    "\n",
    "    x_0_lst = np.arange(900, 961, 1)\n",
    "    x_1_lst = np.arange(965, 1001, 1)\n",
    "\n",
    "    max_profit = 0\n",
    "    best_params = None\n",
    "\n",
    "    for x_0 in x_0_lst:\n",
    "        for x_1 in x_1_lst:\n",
    "            \n",
    "            new_profit = calc_profit(x_0, x_1, a, beta)\n",
    "\n",
    "            if new_profit > max_profit:\n",
    "                max_profit = new_profit\n",
    "                best_params = (x_0, x_1)\n",
    "        \n",
    "    return max_profit, best_params, a"
   ]
  },
  {
   "cell_type": "code",
   "execution_count": 92,
   "metadata": {},
   "outputs": [
    {
     "name": "stdout",
     "output_type": "stream",
     "text": [
      "(20.415200000000002, (952, 978), 0)\n"
     ]
    }
   ],
   "source": [
    "print(manual_round_1(0))"
   ]
  },
  {
   "cell_type": "code",
   "execution_count": 93,
   "metadata": {},
   "outputs": [
    {
     "data": {
      "text/plain": [
       "(26.29875, (941, 973), 0.005)"
      ]
     },
     "execution_count": 93,
     "metadata": {},
     "output_type": "execute_result"
    }
   ],
   "source": [
    "manual_round_1(1/200)"
   ]
  },
  {
   "cell_type": "code",
   "execution_count": 94,
   "metadata": {},
   "outputs": [],
   "source": [
    "def find_optimal_xs():\n",
    "    x_0_lst = np.arange(930, 961, 1)\n",
    "    x_1_lst = np.arange(965, 980, 1)\n",
    "\n",
    "    a_lst = np.arange(0, 0.01, 1/1000)\n",
    "    best_profit = 0\n",
    "    best_params = None\n",
    "    \n",
    "    for x_0 in x_0_lst:\n",
    "        for x_1 in x_1_lst:\n",
    "            sub_profit = 0\n",
    "            for a in a_lst:\n",
    "                b = (1/50)-a\n",
    "                beta = (b-a)/100\n",
    "\n",
    "                sub_profit += calc_profit(x_0, x_1, a, beta)\n",
    "\n",
    "                if sub_profit > best_profit:\n",
    "                    best_profit = sub_profit\n",
    "                    best_params = (x_0, x_1)\n",
    "\n",
    "    return best_params"
   ]
  },
  {
   "cell_type": "code",
   "execution_count": 95,
   "metadata": {},
   "outputs": [
    {
     "data": {
      "text/plain": [
       "(942, 973)"
      ]
     },
     "execution_count": 95,
     "metadata": {},
     "output_type": "execute_result"
    }
   ],
   "source": [
    "find_optimal_xs()"
   ]
  },
  {
   "cell_type": "code",
   "execution_count": null,
   "metadata": {},
   "outputs": [],
   "source": []
  }
 ],
 "metadata": {
  "kernelspec": {
   "display_name": ".env",
   "language": "python",
   "name": "python3"
  },
  "language_info": {
   "codemirror_mode": {
    "name": "ipython",
    "version": 3
   },
   "file_extension": ".py",
   "mimetype": "text/x-python",
   "name": "python",
   "nbconvert_exporter": "python",
   "pygments_lexer": "ipython3",
   "version": "3.11.5"
  }
 },
 "nbformat": 4,
 "nbformat_minor": 2
}
